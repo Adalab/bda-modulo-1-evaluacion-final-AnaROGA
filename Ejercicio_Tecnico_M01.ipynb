{
 "cells": [
  {
   "cell_type": "markdown",
   "id": "70e63a41",
   "metadata": {},
   "source": [
    "## Estructuras Principales\n",
    "1. `inventario` (<u>lista de diccionarios</u>): Una estructura para almacenar los productos en el inventario.  \n",
    "- Cada producto debe ser representado como un diccionario con las siguientes claves: `'nombre'`, `'precio'`, y `'cantidad'`.  \n",
    "- Al principio deberá ser una lista vacía. \n",
    "\n",
    "Ejemplo de como debería ser:\n",
    "[{'nombre': 'Camisa', 'precio': 20, 'cantidad': 40},\n",
    "{'nombre': 'Pantalón', 'precio': 30, 'cantidad': 30}]"
   ]
  },
  {
   "cell_type": "markdown",
   "id": "82fd2713",
   "metadata": {},
   "source": [
    "2. `clientes` (<u>diccionario</u>): Una estructura para llevar un registro de los clientes de la tienda.  \n",
    "- Cada cliente debe ser representado como un diccionario con las siguientes claves: `'nombre'` y `'email'`.  \n",
    "- Al inicio deberá ser un diccionario vacío. Además, cada cliente debe tener un historial de compras.  \n",
    "\n",
    "Deberá parecerse a:\n",
    "\n",
    "{'Cliente1': {'email': 'cliente1@email.com', 'compras': [ ] }, 'Cliente2': {'email': 'cliente2@email.com', 'compras': [ ] }}"
   ]
  },
  {
   "cell_type": "markdown",
   "id": "515fa6ad",
   "metadata": {},
   "source": [
    "3. `ventas_totales` (<u>float</u>): Una variable para llevar un registro de las ventas totales de la tienda. \n",
    "- Inicializalo con valor 0.\n",
    "-----------------------------------------------------------------------------------------------------------"
   ]
  },
  {
   "cell_type": "markdown",
   "id": "13a8f47c",
   "metadata": {},
   "source": [
    "# Funciones\n",
    "1. `agregar_producto(nombre, precio, cantidad)`:  \n",
    ". Esta función agrega un producto al inventario o actualiza su cantidad si ya existe.  \n",
    ". Debe recibir el nombre, precio y cantidad del producto como parámetros.\n",
    "- Itera a través del inventario y compara los nombres de los productos con el nombre proporcionado.\n",
    "- Si el producto ya existe, actualiza la cantidad.\n",
    "- Si no existe, agrega un nuevo producto al inventario"
   ]
  },
  {
   "cell_type": "code",
   "execution_count": 58,
   "id": "f2f9f6f4",
   "metadata": {},
   "outputs": [],
   "source": [
    "inventario = []\n",
    "clientes = {}\n",
    "ventas_totales = 0.0"
   ]
  },
  {
   "cell_type": "code",
   "execution_count": 55,
   "id": "335bff7b",
   "metadata": {},
   "outputs": [],
   "source": [
    "# 1. Agregar producto: parámetros = nombre, precio, cantidad  <-- los mismos que en la lista <inventario>\n",
    "# _ Si existe --> actualizar la cantidad\n",
    "# _ Si no --> crearlo\n",
    "\n",
    "def agregar_producto (nombre, precio, cantidad):\n",
    "    nombre_inv = nombre.upper()    # para que dé igual cómo se ingrese el nombre en la función\n",
    "    nombres_productos = [dic['nombre'] for dic in inventario]  # creamos una lista con todos los nombres de los productos\n",
    "    if nombre_inv not in nombres_productos:   # no existe?\n",
    "        producto_nuevo = {'nombre': nombre_inv, 'precio': precio, 'cantidad' : cantidad}\n",
    "        inventario.append(producto_nuevo)  # agregamos el nuevo producto (diccionario) en la lista 'inventario'\n",
    "        print(f'El producto \"{nombre_inv}\" se ha agregado correctamente en el inventario.')\n",
    "    else:   # si ya existe --> actualizamos la cantidad\n",
    "        index = nombres_productos.index(nombre_inv)  # obtenemos el índice del producto en la lista 'inventario'\n",
    "        inventario[index]['cantidad'] +=  cantidad  # sumamos la cantidad nueva a la existente\n",
    "        print(f'El producto \"{nombre_inv}\" ya se encuentra en el inventario.')\n",
    "        print('Sus datos actualizados son los siguientes:')\n",
    "        print(f'Cantidad: {inventario[index]['cantidad']}.'   )\n",
    "\n",
    "# QUEDA LO DE LOS NOMBRES"
   ]
  },
  {
   "cell_type": "code",
   "execution_count": 59,
   "id": "1f3851b6",
   "metadata": {},
   "outputs": [
    {
     "name": "stdout",
     "output_type": "stream",
     "text": [
      "El producto \"CAMISA\" se ha agregado correctamente en el inventario.\n",
      "El producto \"PANTALÓN\" se ha agregado correctamente en el inventario.\n",
      "El producto \"ZAPATOS\" se ha agregado correctamente en el inventario.\n"
     ]
    }
   ],
   "source": [
    "agregar_producto('Camisa', 20, 10)\n",
    "agregar_producto('PANTALÓN', 30, 30)\n",
    "agregar_producto('zapatos', 50, 40)"
   ]
  },
  {
   "cell_type": "code",
   "execution_count": 60,
   "id": "89534811",
   "metadata": {},
   "outputs": [
    {
     "data": {
      "text/plain": [
       "[{'nombre': 'CAMISA', 'precio': 20, 'cantidad': 10},\n",
       " {'nombre': 'PANTALÓN', 'precio': 30, 'cantidad': 30},\n",
       " {'nombre': 'ZAPATOS', 'precio': 50, 'cantidad': 40}]"
      ]
     },
     "execution_count": 60,
     "metadata": {},
     "output_type": "execute_result"
    }
   ],
   "source": [
    "inventario"
   ]
  },
  {
   "cell_type": "code",
   "execution_count": 61,
   "id": "644d420c",
   "metadata": {},
   "outputs": [
    {
     "name": "stdout",
     "output_type": "stream",
     "text": [
      "El producto \"CAMISA\" ya se encuentra en el inventario.\n",
      "Sus datos actualizados son los siguientes:\n",
      "Cantidad: 50.\n"
     ]
    }
   ],
   "source": [
    "agregar_producto('camisa', 20, 40) "
   ]
  },
  {
   "cell_type": "code",
   "execution_count": 62,
   "id": "10832c2b",
   "metadata": {},
   "outputs": [
    {
     "data": {
      "text/plain": [
       "[{'nombre': 'CAMISA', 'precio': 20, 'cantidad': 50},\n",
       " {'nombre': 'PANTALÓN', 'precio': 30, 'cantidad': 30},\n",
       " {'nombre': 'ZAPATOS', 'precio': 50, 'cantidad': 40}]"
      ]
     },
     "execution_count": 62,
     "metadata": {},
     "output_type": "execute_result"
    }
   ],
   "source": [
    "inventario"
   ]
  },
  {
   "cell_type": "markdown",
   "id": "41dd1c6b",
   "metadata": {},
   "source": [
    "2. `ver_inventario()`:  \n",
    ". Muestra el inventario de productos con sus detalles.  \n",
    ". Debería verse:  \n",
    "    Nombre: Camisa, Precio: $20, Cantidad: 50  \n",
    "    Nombre: Pantalón, Precio: $30, Cantidad: 30  \n",
    "    Nombre: Zapatos, Precio: $50, Cantidad: 40  \n",
    "    Nombre: Camisa, Precio: $20, Cantidad: 50\n",
    "- Utiliza un bucle `for` para recorrer el inventario.\n",
    "- Imprime los detalles (nombre, precio, cantidad) de cada producto.  \n"
   ]
  },
  {
   "cell_type": "code",
   "execution_count": 72,
   "id": "58957a1c",
   "metadata": {},
   "outputs": [],
   "source": [
    "def ver_inventario ():\n",
    "    for dic in inventario:\n",
    "        nombre_inv = (dic['nombre']).capitalize()\n",
    "        print(f'Nombre: {nombre_inv}, Precio: ${dic['precio']}, Cantidad: {dic['cantidad']}.')   "
   ]
  },
  {
   "cell_type": "code",
   "execution_count": 73,
   "id": "5da32cbb",
   "metadata": {},
   "outputs": [
    {
     "name": "stdout",
     "output_type": "stream",
     "text": [
      "Nombre: Camisa, Precio: $20, Cantidad: 50.\n",
      "Nombre: Pantalón, Precio: $30, Cantidad: 30.\n",
      "Nombre: Zapatos, Precio: $50, Cantidad: 40.\n"
     ]
    }
   ],
   "source": [
    "ver_inventario()"
   ]
  },
  {
   "cell_type": "markdown",
   "id": "2462dcd1",
   "metadata": {},
   "source": [
    "3. `buscar_producto(nombre)`:  \n",
    ". Busca un producto en el inventario por nombre y muestra sus detalles si se encuentra.  \n",
    ". Debe recibir el nombre del producto como parámetro.\n",
    "- Utiliza un bucle `for` para recorrer el inventario.\n",
    "- Compara los nombres de los productos con el nombre proporcionado.\n",
    "- Si se encuentra el producto, imprime sus detalles.  \n",
    ". Debe mostrar:\n",
    "Nombre: Camisa, Precio: $20, Cantidad: 40"
   ]
  },
  {
   "cell_type": "code",
   "execution_count": 65,
   "id": "1adcc943",
   "metadata": {},
   "outputs": [
    {
     "data": {
      "text/plain": [
       "['CAMISA', 'PANTALÓN', 'ZAPATOS']"
      ]
     },
     "execution_count": 65,
     "metadata": {},
     "output_type": "execute_result"
    }
   ],
   "source": [
    "nombres_productos = [dic['nombre'] for dic in inventario]\n",
    "nombres_productos"
   ]
  },
  {
   "cell_type": "code",
   "execution_count": 38,
   "id": "da4d585c",
   "metadata": {},
   "outputs": [],
   "source": [
    "def buscar_producto(nombre):\n",
    "    nombres_productos = [dic['nombre'] for dic in inventario]\n",
    "    if nombre in nombres_productos:\n",
    "        index = nombres_productos.index(nombre)\n",
    "        print(f'El producto {nombre} esá en el inventario.')\n",
    "        print( f'Los datos del producto son:')\n",
    "        return f'Nombre: {inventario[index]['nombre']}, Precio: ${inventario[index]['precio']}, Cantidad: {inventario[index]['cantidad']}.'\n",
    "         \n",
    "    else:\n",
    "        print(f'El producto {nombre.capitalize()} no se encuentra actualmente en el inventario')\n",
    "        return f'Puede elegir alguno los siguientes productos disponibles : {nombres_productos}'\n",
    "\n"
   ]
  },
  {
   "cell_type": "code",
   "execution_count": 39,
   "id": "62715cf7",
   "metadata": {},
   "outputs": [
    {
     "name": "stdout",
     "output_type": "stream",
     "text": [
      "El producto Camisa esá en el inventario.\n",
      "Los datos del producto son:\n",
      "Nombre: Camisa, Precio: $20, Cantidad: 40.\n",
      "..........\n",
      "El producto Pantalón esá en el inventario.\n",
      "Los datos del producto son:\n",
      "Nombre: Pantalón, Precio: $30, Cantidad: 30.\n",
      "..........\n",
      "El producto Medias no se encuentra actualmente en el inventario\n",
      "Puede elegir alguno los siguientes productos disponibles : ['Camisa', 'Pantalón']\n"
     ]
    }
   ],
   "source": [
    "print(buscar_producto('Camisa'))\n",
    "print('..........')\n",
    "print(buscar_producto('Pantalón'))\n",
    "print('..........')\n",
    "print(buscar_producto('medias'))"
   ]
  },
  {
   "cell_type": "code",
   "execution_count": 40,
   "id": "cc530518",
   "metadata": {},
   "outputs": [],
   "source": [
    "def buscar_producto(nombre):\n",
    "    nombres_productos = [dic['nombre'] for dic in inventario]\n",
    "    if nombre in nombres_productos:\n",
    "        index_producto = nombres_productos.index(nombre)\n",
    "        print(f'El producto {nombre} esá en el inventario.')\n",
    "        print(f'Los datos del producto {nombre} son: {inventario[index_producto]}.')\n",
    "         \n",
    "    else:\n",
    "        print('pues no está')"
   ]
  },
  {
   "cell_type": "code",
   "execution_count": 41,
   "id": "10926664",
   "metadata": {},
   "outputs": [
    {
     "name": "stdout",
     "output_type": "stream",
     "text": [
      "El producto Camisa esá en el inventario.\n",
      "Los datos del producto Camisa son: {'nombre': 'Camisa', 'precio': 20, 'cantidad': 40}.\n",
      "None\n",
      "..........\n",
      "El producto Pantalón esá en el inventario.\n",
      "Los datos del producto Pantalón son: {'nombre': 'Pantalón', 'precio': 30, 'cantidad': 30}.\n",
      "None\n",
      "..........\n",
      "pues no está\n",
      "None\n"
     ]
    }
   ],
   "source": [
    "print(buscar_producto('Camisa'))\n",
    "print('..........')\n",
    "print(buscar_producto('Pantalón'))\n",
    "print('..........')\n",
    "print(buscar_producto('medias'))"
   ]
  },
  {
   "cell_type": "code",
   "execution_count": 42,
   "id": "a0a0a18c",
   "metadata": {},
   "outputs": [],
   "source": [
    "def buscar_producto(nombre):\n",
    "    nombres_productos = [dic['nombre'] for dic in inventario]\n",
    "    if nombre in nombres_productos:\n",
    "        index_producto = nombres_productos.index(nombre)\n",
    "        print('ya está')\n",
    "\n",
    "\n",
    "\n",
    "\n",
    "\n",
    "\n",
    "        if nombre in nombres_productos:\n",
    "            index_producto = inventario.index(nombre)\n",
    "            print(f'El producto {nombre} se encuentra en el inventario. Sus datos son:')\n",
    "            print(f'Nombre: {inventario [index_producto]['nombre']}.')\n",
    "            print(f'Precio: ${inventario [index_producto]['precio']}.') \n",
    "            print(f'Cantidad: ${inventario [index_producto]['cantidad']}.') \n",
    "        else:\n",
    "            print(f'El producto {nombre} no está actualmente en el inventario.')"
   ]
  },
  {
   "cell_type": "code",
   "execution_count": 43,
   "id": "b0aa523e",
   "metadata": {},
   "outputs": [
    {
     "name": "stdout",
     "output_type": "stream",
     "text": [
      "ya está\n"
     ]
    },
    {
     "ename": "ValueError",
     "evalue": "'Camisa' is not in list",
     "output_type": "error",
     "traceback": [
      "\u001b[1;31m---------------------------------------------------------------------------\u001b[0m",
      "\u001b[1;31mValueError\u001b[0m                                Traceback (most recent call last)",
      "Cell \u001b[1;32mIn[43], line 1\u001b[0m\n\u001b[1;32m----> 1\u001b[0m \u001b[38;5;28mprint\u001b[39m(buscar_producto(\u001b[38;5;124m'\u001b[39m\u001b[38;5;124mCamisa\u001b[39m\u001b[38;5;124m'\u001b[39m))\n\u001b[0;32m      2\u001b[0m \u001b[38;5;28mprint\u001b[39m(\u001b[38;5;124m'\u001b[39m\u001b[38;5;124m..........\u001b[39m\u001b[38;5;124m'\u001b[39m)\n\u001b[0;32m      3\u001b[0m \u001b[38;5;28mprint\u001b[39m(buscar_producto(\u001b[38;5;124m'\u001b[39m\u001b[38;5;124mPantalón\u001b[39m\u001b[38;5;124m'\u001b[39m))\n",
      "Cell \u001b[1;32mIn[42], line 13\u001b[0m, in \u001b[0;36mbuscar_producto\u001b[1;34m(nombre)\u001b[0m\n\u001b[0;32m      5\u001b[0m \u001b[38;5;28mprint\u001b[39m(\u001b[38;5;124m'\u001b[39m\u001b[38;5;124mya está\u001b[39m\u001b[38;5;124m'\u001b[39m)\n\u001b[0;32m     12\u001b[0m \u001b[38;5;28;01mif\u001b[39;00m nombre \u001b[38;5;129;01min\u001b[39;00m nombres_productos:\n\u001b[1;32m---> 13\u001b[0m     index_producto \u001b[38;5;241m=\u001b[39m inventario\u001b[38;5;241m.\u001b[39mindex(nombre)\n\u001b[0;32m     14\u001b[0m     \u001b[38;5;28mprint\u001b[39m(\u001b[38;5;124mf\u001b[39m\u001b[38;5;124m'\u001b[39m\u001b[38;5;124mEl producto \u001b[39m\u001b[38;5;132;01m{\u001b[39;00mnombre\u001b[38;5;132;01m}\u001b[39;00m\u001b[38;5;124m se encuentra en el inventario. Sus datos son:\u001b[39m\u001b[38;5;124m'\u001b[39m)\n\u001b[0;32m     15\u001b[0m     \u001b[38;5;28mprint\u001b[39m(\u001b[38;5;124mf\u001b[39m\u001b[38;5;124m'\u001b[39m\u001b[38;5;124mNombre: \u001b[39m\u001b[38;5;132;01m{\u001b[39;00minventario\u001b[38;5;250m \u001b[39m[index_producto][\u001b[38;5;124m'\u001b[39m\u001b[38;5;124mnombre\u001b[39m\u001b[38;5;124m'\u001b[39m]\u001b[38;5;132;01m}\u001b[39;00m\u001b[38;5;124m.\u001b[39m\u001b[38;5;124m'\u001b[39m)\n",
      "\u001b[1;31mValueError\u001b[0m: 'Camisa' is not in list"
     ]
    }
   ],
   "source": [
    "print(buscar_producto('Camisa'))\n",
    "print('..........')\n",
    "print(buscar_producto('Pantalón'))\n",
    "print('..........')\n",
    "print(buscar_producto('medias'))"
   ]
  },
  {
   "cell_type": "code",
   "execution_count": null,
   "id": "79911032",
   "metadata": {},
   "outputs": [],
   "source": [
    "def buscar_producto(nombre):\n",
    "    lista_nombres = []\n",
    "    for dic in inventario:\n",
    "        nombres_productos = dic['nombre']\n",
    "        lista_nombres.append(nombres_productos)\n",
    "        if nombre in lista_nombres:\n",
    "            index_producto = lista_nombres.index(nombre)\n",
    "            print(f'El producto {nombre} se encuentra en el inventario. Sus datos son:')\n",
    "            print(f'Nombre: {inventario [index_producto]['nombre']}.')\n",
    "            print(f'Precio: ${inventario [index_producto]['precio']}.') \n",
    "            print(f'Cantidad: ${inventario [index_producto]['cantidad']}.') \n",
    "        else:\n",
    "            print(f'El producto {nombre} no está actualmente en el inventario.')"
   ]
  },
  {
   "cell_type": "code",
   "execution_count": null,
   "id": "13805e48",
   "metadata": {},
   "outputs": [
    {
     "name": "stdout",
     "output_type": "stream",
     "text": [
      "None\n",
      "..........\n",
      "None\n",
      "..........\n",
      "None\n"
     ]
    }
   ],
   "source": [
    "print(buscar_producto('Camisa'))\n",
    "print('..........')\n",
    "print(buscar_producto('Pantalón'))\n",
    "print('..........')\n",
    "print(buscar_producto('medias'))"
   ]
  },
  {
   "cell_type": "code",
   "execution_count": null,
   "id": "10cf55ae",
   "metadata": {},
   "outputs": [],
   "source": [
    "def buscar_prod(nombre):\n",
    "    lista_nombres = []\n",
    "    for dic in inventario:\n",
    "        nombres_productos = dic['nombre']\n",
    "        lista_nombres.append(nombres_productos)\n",
    "    print(lista_nombres)"
   ]
  },
  {
   "cell_type": "code",
   "execution_count": null,
   "id": "efba3620",
   "metadata": {},
   "outputs": [
    {
     "name": "stdout",
     "output_type": "stream",
     "text": [
      "[]\n"
     ]
    }
   ],
   "source": [
    "buscar_prod('Camisa')"
   ]
  },
  {
   "cell_type": "code",
   "execution_count": null,
   "id": "4a86cde6",
   "metadata": {},
   "outputs": [],
   "source": [
    "buscar_producto('Camisa')"
   ]
  },
  {
   "cell_type": "code",
   "execution_count": null,
   "id": "6390fce7",
   "metadata": {},
   "outputs": [],
   "source": []
  }
 ],
 "metadata": {
  "kernelspec": {
   "display_name": "base",
   "language": "python",
   "name": "python3"
  },
  "language_info": {
   "codemirror_mode": {
    "name": "ipython",
    "version": 3
   },
   "file_extension": ".py",
   "mimetype": "text/x-python",
   "name": "python",
   "nbconvert_exporter": "python",
   "pygments_lexer": "ipython3",
   "version": "3.12.3"
  }
 },
 "nbformat": 4,
 "nbformat_minor": 5
}
