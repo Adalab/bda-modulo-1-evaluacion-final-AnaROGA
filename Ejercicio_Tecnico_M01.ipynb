{
 "cells": [
  {
   "cell_type": "markdown",
   "id": "70e63a41",
   "metadata": {},
   "source": [
    "## Estructuras Principales\n",
    "1. `inventario` (<u>lista de diccionarios</u>): Una estructura para almacenar los productos en el inventario.  \n",
    "- Cada producto debe ser representado como un diccionario con las siguientes claves: `'nombre'`, `'precio'`, y `'cantidad'`.  \n",
    "- Al principio deberá ser una lista vacía. \n",
    "\n",
    "Ejemplo de como debería ser:\n",
    "[{'nombre': 'Camisa', 'precio': 20, 'cantidad': 40},\n",
    "{'nombre': 'Pantalón', 'precio': 30, 'cantidad': 30}]"
   ]
  },
  {
   "cell_type": "markdown",
   "id": "82fd2713",
   "metadata": {},
   "source": [
    "2. `clientes` (<u>diccionario</u>): Una estructura para llevar un registro de los clientes de la tienda.  \n",
    "- Cada cliente debe ser representado como un diccionario con las siguientes claves: `'nombre'` y `'email'`.  \n",
    "- Al inicio deberá ser un diccionario vacío. Además, cada cliente debe tener un historial de compras.  \n",
    "\n",
    "Deberá parecerse a:\n",
    "\n",
    "{'Cliente1': {'email': 'cliente1@email.com', 'compras': [ ] }, 'Cliente2': {'email': 'cliente2@email.com', 'compras': [ ] }}"
   ]
  },
  {
   "cell_type": "markdown",
   "id": "515fa6ad",
   "metadata": {},
   "source": [
    "3. `ventas_totales` (<u>float</u>): Una variable para llevar un registro de las ventas totales de la tienda. \n",
    "- Inicializalo con valor 0.\n",
    "-----------------------------------------------------------------------------------------------------------"
   ]
  },
  {
   "cell_type": "markdown",
   "id": "13a8f47c",
   "metadata": {},
   "source": [
    "# Funciones\n",
    "1. `agregar_producto(nombre, precio, cantidad)`:  \n",
    ". Esta función agrega un producto al inventario o actualiza su cantidad si ya existe.  \n",
    ". Debe recibir el nombre, precio y cantidad del producto como parámetros.\n",
    "- Itera a través del inventario y compara los nombres de los productos con el nombre proporcionado.\n",
    "- Si el producto ya existe, actualiza la cantidad.\n",
    "- Si no existe, agrega un nuevo producto al inventario"
   ]
  },
  {
   "cell_type": "code",
   "execution_count": 1,
   "id": "f2f9f6f4",
   "metadata": {},
   "outputs": [],
   "source": [
    "inventario = []\n",
    "clientes = {}\n",
    "ventas_totales = 0.0"
   ]
  },
  {
   "cell_type": "code",
   "execution_count": 2,
   "id": "335bff7b",
   "metadata": {},
   "outputs": [],
   "source": [
    "def agregar_producto (nombre, precio, cantidad):\n",
    "    nombre_inv = nombre.upper()                                # para que dé igual cómo se ingrese el nombre en la función\n",
    "    nombres_productos = [dic['nombre'] for dic in inventario]  # creamos una lista con todos los nombres de los productos\n",
    "    if nombre_inv not in nombres_productos:                    # no existe?\n",
    "        producto_nuevo = {'nombre': nombre_inv, 'precio': precio, 'cantidad' : cantidad}\n",
    "        inventario.append(producto_nuevo)                                                   # agregamos el nuevo producto (diccionario) en la lista 'inventario'\n",
    "        print(f'El producto \"{nombre_inv.capitalize()}\" se ha agregado correctamente en el inventario.')\n",
    "    else:                                                     # si ya existe --> actualizamos la cantidad\n",
    "        index = nombres_productos.index(nombre_inv)           # obtenemos el índice del producto en la lista 'inventario'\n",
    "        inventario[index]['cantidad'] +=  cantidad            # sumamos la cantidad nueva a la existente\n",
    "        print(f'El producto \"{nombre_inv.capitalize()}\" ya se encuentra en el inventario.')\n",
    "        print('Sus datos actualizados son los siguientes:')\n",
    "        return f'Cantidad: {inventario[index]['cantidad']}.'\n"
   ]
  },
  {
   "cell_type": "code",
   "execution_count": 3,
   "id": "1f3851b6",
   "metadata": {},
   "outputs": [
    {
     "name": "stdout",
     "output_type": "stream",
     "text": [
      "El producto \"Camisa\" se ha agregado correctamente en el inventario.\n",
      "El producto \"Pantalón\" se ha agregado correctamente en el inventario.\n",
      "El producto \"Zapatos\" se ha agregado correctamente en el inventario.\n"
     ]
    }
   ],
   "source": [
    "agregar_producto('Camisa', 20, 10)\n",
    "agregar_producto('PANTALÓN', 30, 30)\n",
    "agregar_producto('zapatos', 50, 40)"
   ]
  },
  {
   "cell_type": "code",
   "execution_count": 4,
   "id": "89534811",
   "metadata": {},
   "outputs": [
    {
     "data": {
      "text/plain": [
       "[{'nombre': 'CAMISA', 'precio': 20, 'cantidad': 10},\n",
       " {'nombre': 'PANTALÓN', 'precio': 30, 'cantidad': 30},\n",
       " {'nombre': 'ZAPATOS', 'precio': 50, 'cantidad': 40}]"
      ]
     },
     "execution_count": 4,
     "metadata": {},
     "output_type": "execute_result"
    }
   ],
   "source": [
    "inventario"
   ]
  },
  {
   "cell_type": "code",
   "execution_count": 5,
   "id": "644d420c",
   "metadata": {},
   "outputs": [
    {
     "name": "stdout",
     "output_type": "stream",
     "text": [
      "El producto \"Camisa\" ya se encuentra en el inventario.\n",
      "Sus datos actualizados son los siguientes:\n"
     ]
    },
    {
     "data": {
      "text/plain": [
       "'Cantidad: 50.'"
      ]
     },
     "execution_count": 5,
     "metadata": {},
     "output_type": "execute_result"
    }
   ],
   "source": [
    "agregar_producto('camisa', 20, 40) "
   ]
  },
  {
   "cell_type": "code",
   "execution_count": 6,
   "id": "10832c2b",
   "metadata": {},
   "outputs": [
    {
     "data": {
      "text/plain": [
       "[{'nombre': 'CAMISA', 'precio': 20, 'cantidad': 50},\n",
       " {'nombre': 'PANTALÓN', 'precio': 30, 'cantidad': 30},\n",
       " {'nombre': 'ZAPATOS', 'precio': 50, 'cantidad': 40}]"
      ]
     },
     "execution_count": 6,
     "metadata": {},
     "output_type": "execute_result"
    }
   ],
   "source": [
    "inventario"
   ]
  },
  {
   "cell_type": "markdown",
   "id": "41dd1c6b",
   "metadata": {},
   "source": [
    "2. `ver_inventario()`:  \n",
    ". Muestra el inventario de productos con sus detalles.  \n",
    ". Debería verse:  \n",
    "    Nombre: Camisa, Precio: $20, Cantidad: 50  \n",
    "    Nombre: Pantalón, Precio: $30, Cantidad: 30  \n",
    "    Nombre: Zapatos, Precio: $50, Cantidad: 40  \n",
    "    Nombre: Camisa, Precio: $20, Cantidad: 50\n",
    "- Utiliza un bucle `for` para recorrer el inventario.\n",
    "- Imprime los detalles (nombre, precio, cantidad) de cada producto.  \n"
   ]
  },
  {
   "cell_type": "code",
   "execution_count": 7,
   "id": "58957a1c",
   "metadata": {},
   "outputs": [],
   "source": [
    "def ver_inventario ():\n",
    "    for dic in inventario:\n",
    "        nombre_inv = (dic['nombre']).capitalize()\n",
    "        print(f'Nombre: {nombre_inv}, Precio: ${dic['precio']}, Cantidad: {dic['cantidad']}.')   "
   ]
  },
  {
   "cell_type": "code",
   "execution_count": 8,
   "id": "5da32cbb",
   "metadata": {},
   "outputs": [
    {
     "name": "stdout",
     "output_type": "stream",
     "text": [
      "Nombre: Camisa, Precio: $20, Cantidad: 50.\n",
      "Nombre: Pantalón, Precio: $30, Cantidad: 30.\n",
      "Nombre: Zapatos, Precio: $50, Cantidad: 40.\n"
     ]
    }
   ],
   "source": [
    "ver_inventario()"
   ]
  },
  {
   "cell_type": "markdown",
   "id": "2462dcd1",
   "metadata": {},
   "source": [
    "3. `buscar_producto(nombre)`:  \n",
    ". Busca un producto en el inventario por nombre y muestra sus detalles si se encuentra.  \n",
    ". Debe recibir el nombre del producto como parámetro.\n",
    "- Utiliza un bucle `for` para recorrer el inventario.\n",
    "- Compara los nombres de los productos con el nombre proporcionado.\n",
    "- Si se encuentra el producto, imprime sus detalles.  \n",
    ". Debe mostrar:\n",
    "Nombre: Camisa, Precio: $20, Cantidad: 40"
   ]
  },
  {
   "cell_type": "code",
   "execution_count": 9,
   "id": "da4d585c",
   "metadata": {},
   "outputs": [],
   "source": [
    "def buscar_producto(nombre):\n",
    "    nombre_inv = nombre.upper()                               # para que dé igual cómo se ingrese el nombre en la función\n",
    "    nombres_productos = [dic['nombre'] for dic in inventario] # lista con los nombres de los prod. existentes\n",
    "    if nombre_inv in nombres_productos:\n",
    "        index = nombres_productos.index(nombre_inv)           # buscamos el índice del producto en la lista\n",
    "        print(f'El producto \"{nombre_inv.capitalize()}\" ya se encuentra en el inventario.')\n",
    "        print( f'Los datos del producto son:')\n",
    "        return f'Nombre: {nombre_inv.capitalize()}, Precio: ${inventario[index]['precio']}, Cantidad: {inventario[index]['cantidad']}.'\n",
    "         \n",
    "    else:\n",
    "        print(f'El producto \"{nombre_inv.capitalize()}\" no se encuentra actualmente en el inventario.')\n",
    "        return f'Puede elegir alguno de los siguientes productos disponibles : {nombres_productos}'\n",
    "\n"
   ]
  },
  {
   "cell_type": "code",
   "execution_count": 10,
   "id": "62715cf7",
   "metadata": {},
   "outputs": [
    {
     "name": "stdout",
     "output_type": "stream",
     "text": [
      "El producto \"Camisa\" ya se encuentra en el inventario.\n",
      "Los datos del producto son:\n",
      "Nombre: Camisa, Precio: $20, Cantidad: 50.\n",
      "..........\n",
      "El producto \"Pantalón\" ya se encuentra en el inventario.\n",
      "Los datos del producto son:\n",
      "Nombre: Pantalón, Precio: $30, Cantidad: 30.\n",
      "..........\n",
      "El producto \"Medias\" no se encuentra actualmente en el inventario.\n",
      "Puede elegir alguno de los siguientes productos disponibles : ['CAMISA', 'PANTALÓN', 'ZAPATOS']\n"
     ]
    }
   ],
   "source": [
    "print(buscar_producto('camisa'))\n",
    "print('..........')\n",
    "print(buscar_producto('PANTALÓN'))\n",
    "print('..........')\n",
    "print(buscar_producto('medias'))"
   ]
  },
  {
   "cell_type": "markdown",
   "id": "208a1ba7",
   "metadata": {},
   "source": [
    "4. `actualizar_stock(nombre, cantidad)`:  \n",
    ". Actualiza el stock de un producto en el inventario.  \n",
    ". Debe recibir el nombre del producto y la cantidad a agregar o quitar como parámetros.\n",
    "- Utiliza un bucle `for` para recorrer el inventario.\n",
    "- Busca el producto por nombre.\n",
    "- Actualiza la cantidad según la entrada del usuario.\n",
    "- Si el producto no esta en el inventario muestra un mensaje indicándolo."
   ]
  },
  {
   "cell_type": "code",
   "execution_count": 11,
   "id": "c222edf6",
   "metadata": {},
   "outputs": [],
   "source": [
    "def actualizar_stock(nombre, cantidad):\n",
    "    nombre_inv = nombre.upper()                                  # para que dé igual cómo se ingrese el nombre en la función\n",
    "    nombres_productos = [dic['nombre'] for dic in inventario]    # lista con los nombres de los prod. existentes\n",
    "    if nombre_inv in nombres_productos:\n",
    "        index = nombres_productos.index(nombre_inv)              # obtenemos el índice del producto en la lista 'inventario'\n",
    "        resultado = inventario[index]['cantidad'] + cantidad     # calculamos el resultado en caso de que nos salga un stock negativo --> indicado en el 4º 'if'\n",
    "        if cantidad > 0 and resultado >= 0:                                        # cantidad ingresada +\n",
    "            inventario[index]['cantidad'] += cantidad\n",
    "            print(f'El producto \"{nombre_inv.capitalize()}\" se ha actualizado.')\n",
    "            print(f'Cantidad actual: {inventario[index]['cantidad']} unidades.')\n",
    "        if cantidad < 0 and resultado >= 0:                                        # cantidad ingresada - pero aún nos quedan productos en el inventario\n",
    "            inventario[index]['cantidad'] += cantidad\n",
    "            print(f'El producto \"{nombre_inv.capitalize()}\" se ha actualizado.')\n",
    "            print(f'Cantidad actual: {inventario[index]['cantidad']} unidades.')\n",
    "        if cantidad == 0:                                                          # si queremos que el stock sea inexistente\n",
    "            inventario[index]['cantidad'] = 0\n",
    "            print(f'El producto \"{nombre_inv.capitalize()}\" se ha actualizado.')\n",
    "            print(f'Cantidad actual: {inventario[index]['cantidad']} unidades.')  \n",
    "        if cantidad < 0 and resultado < 0:                                         # cantidad ingresada - dándonos stock - --> avisar del error\n",
    "            print(f'La cantidad indicada es menor al número existente de unidades del producto \"{nombre_inv.capitalize()}\".')\n",
    "            print(f'Cantidad existente: {inventario[index]['cantidad']} unidades.') \n",
    "    else:\n",
    "        return f'El producto \"{nombre_inv.capitalize()}\" no se encuentra actualmente en el inventario.'"
   ]
  },
  {
   "cell_type": "code",
   "execution_count": 12,
   "id": "bb286e3b",
   "metadata": {},
   "outputs": [
    {
     "data": {
      "text/plain": [
       "[{'nombre': 'CAMISA', 'precio': 20, 'cantidad': 50},\n",
       " {'nombre': 'PANTALÓN', 'precio': 30, 'cantidad': 30},\n",
       " {'nombre': 'ZAPATOS', 'precio': 50, 'cantidad': 40}]"
      ]
     },
     "execution_count": 12,
     "metadata": {},
     "output_type": "execute_result"
    }
   ],
   "source": [
    "inventario"
   ]
  },
  {
   "cell_type": "code",
   "execution_count": 13,
   "id": "f1d3050e",
   "metadata": {},
   "outputs": [
    {
     "name": "stdout",
     "output_type": "stream",
     "text": [
      "El producto \"Camisa\" se ha actualizado.\n",
      "Cantidad actual: 60 unidades.\n",
      "..........\n",
      "El producto \"Zapatos\" se ha actualizado.\n",
      "Cantidad actual: 20 unidades.\n",
      "..........\n",
      "El producto \"Pantalón\" se ha actualizado.\n",
      "Cantidad actual: 0 unidades.\n",
      "..........\n"
     ]
    },
    {
     "data": {
      "text/plain": [
       "'El producto \"Bufanda\" no se encuentra actualmente en el inventario.'"
      ]
     },
     "execution_count": 13,
     "metadata": {},
     "output_type": "execute_result"
    }
   ],
   "source": [
    "actualizar_stock('camisa', 10)\n",
    "print('..........')\n",
    "actualizar_stock('ZAPATOS', -20)\n",
    "print('..........')\n",
    "actualizar_stock('pantalón', 0)\n",
    "print('..........')\n",
    "actualizar_stock('bufanda', 50)"
   ]
  },
  {
   "cell_type": "code",
   "execution_count": 14,
   "id": "59b6125a",
   "metadata": {},
   "outputs": [
    {
     "data": {
      "text/plain": [
       "[{'nombre': 'CAMISA', 'precio': 20, 'cantidad': 60},\n",
       " {'nombre': 'PANTALÓN', 'precio': 30, 'cantidad': 0},\n",
       " {'nombre': 'ZAPATOS', 'precio': 50, 'cantidad': 20}]"
      ]
     },
     "execution_count": 14,
     "metadata": {},
     "output_type": "execute_result"
    }
   ],
   "source": [
    "inventario"
   ]
  },
  {
   "cell_type": "code",
   "execution_count": 15,
   "id": "903531c9",
   "metadata": {},
   "outputs": [
    {
     "name": "stdout",
     "output_type": "stream",
     "text": [
      "La cantidad indicada es menor al número existente de unidades del producto \"Camisa\".\n",
      "Cantidad existente: 60 unidades.\n",
      "..........\n"
     ]
    }
   ],
   "source": [
    "actualizar_stock('CAMISA', -80 )\n",
    "print('..........')"
   ]
  },
  {
   "cell_type": "markdown",
   "id": "1fe8a0f3",
   "metadata": {},
   "source": [
    "5. `eliminar_producto(nombre)`:  \n",
    ". Elimina un producto del inventario por nombre.  \n",
    ". Debe recibir el nombre del producto como parámetro.\n",
    "- Utiliza un bucle `for` para recorrer el inventario.\n",
    "- Busca el producto por nombre.\n",
    "- Elimina el producto del inventario si existe.\n",
    "- Si el producto no esta en el inventario muestra un mensaje indicándolo."
   ]
  },
  {
   "cell_type": "code",
   "execution_count": 16,
   "id": "9bf4fad3",
   "metadata": {},
   "outputs": [],
   "source": [
    "def eliminar_producto(nombre):\n",
    "    nombre_inv = nombre.upper()                                  # para que dé igual cómo se ingrese el nombre en la función\n",
    "    nombres_productos = [dic['nombre'] for dic in inventario]    # lista con los nombres de los prod. existentes\n",
    "    if nombre_inv in nombres_productos:\n",
    "        index = nombres_productos.index(nombre_inv)              # obtenemos el índice del producto en la lista 'inventario'\n",
    "        del inventario[index]\n",
    "        print(f'El producto \"{nombre_inv.capitalize()}\" ha sido eliminado.')\n",
    "    else:\n",
    "        print(f'El producto \"{nombre_inv.capitalize()}\" no se encuentra en el inventario.')"
   ]
  },
  {
   "cell_type": "code",
   "execution_count": 17,
   "id": "d60209e5",
   "metadata": {},
   "outputs": [
    {
     "name": "stdout",
     "output_type": "stream",
     "text": [
      "El producto \"Zapatos\" ha sido eliminado.\n",
      "..........\n",
      "[{'nombre': 'CAMISA', 'precio': 20, 'cantidad': 60}, {'nombre': 'PANTALÓN', 'precio': 30, 'cantidad': 0}]\n",
      "..........\n",
      "El producto \"Medias\" no se encuentra en el inventario.\n"
     ]
    }
   ],
   "source": [
    "eliminar_producto('zapatos')\n",
    "print('..........')\n",
    "print(inventario)\n",
    "print('..........')\n",
    "eliminar_producto('medias')"
   ]
  },
  {
   "cell_type": "markdown",
   "id": "1b7de39c",
   "metadata": {},
   "source": [
    "6. `calcular_valor_inventario()`:  \n",
    ". Calcula y muestra el valor total del inventario.\n",
    "- Utiliza un bucle for para calcular el valor total del inventario.\n",
    "- Itera a través del inventario y suma el valor de cada producto (precio x cantidad). Es decir, calcula el valor total del inventario.  \n",
    "Ejemplo:  \n",
    "si tenemos 5 camisas que valen 5 euros y 10 calcetines que valen 1 euro,  \n",
    "este método te tiene que devolver: 35 euros  \n",
    "valor_camisas = 5 * 5  \n",
    "valor_calcetines = 10 * 1  \n",
    "valor_camisas + valor_calcetines = 35\n"
   ]
  },
  {
   "cell_type": "code",
   "execution_count": 18,
   "id": "cd7cc0a6",
   "metadata": {},
   "outputs": [
    {
     "data": {
      "text/plain": [
       "[{'nombre': 'CAMISA', 'precio': 20, 'cantidad': 60},\n",
       " {'nombre': 'PANTALÓN', 'precio': 30, 'cantidad': 40},\n",
       " {'nombre': 'ZAPATOS', 'precio': 50, 'cantidad': 0}]"
      ]
     },
     "execution_count": 18,
     "metadata": {},
     "output_type": "execute_result"
    }
   ],
   "source": [
    "inventario = [{'nombre': 'CAMISA', 'precio': 20, 'cantidad': 60},\n",
    " {'nombre': 'PANTALÓN', 'precio': 30, 'cantidad': 40},\n",
    " {'nombre': 'ZAPATOS', 'precio': 50, 'cantidad': 0}]\n",
    "inventario"
   ]
  },
  {
   "cell_type": "code",
   "execution_count": 19,
   "id": "b43ad81a",
   "metadata": {},
   "outputs": [
    {
     "data": {
      "text/plain": [
       "[1200, 1200, 0]"
      ]
     },
     "execution_count": 19,
     "metadata": {},
     "output_type": "execute_result"
    }
   ],
   "source": [
    "lista_totales = [(dic['precio'] * dic['cantidad']) for dic in inventario]\n",
    "lista_totales"
   ]
  },
  {
   "cell_type": "code",
   "execution_count": 20,
   "id": "ee35f6db",
   "metadata": {},
   "outputs": [],
   "source": [
    "def calcular_valor_inventario():\n",
    "    lista_totales = [(dic['precio'] * dic['cantidad']) for dic in inventario]  # lista con los valores totales de cada producto\n",
    "    valor_total = 0\n",
    "    for valor in lista_totales:\n",
    "        valor_total += valor                                                   # iteramos cada valor y lo sumamos al anterior\n",
    "    print(valor_total) "
   ]
  },
  {
   "cell_type": "code",
   "execution_count": 21,
   "id": "41469e14",
   "metadata": {},
   "outputs": [
    {
     "name": "stdout",
     "output_type": "stream",
     "text": [
      "2400\n"
     ]
    }
   ],
   "source": [
    "calcular_valor_inventario()"
   ]
  },
  {
   "cell_type": "code",
   "execution_count": 24,
   "id": "53b684f9",
   "metadata": {},
   "outputs": [
    {
     "data": {
      "text/plain": [
       "[{'nombre': 'CAMISA', 'precio': 20, 'cantidad': 30},\n",
       " {'nombre': 'PANTALÓN', 'precio': 30, 'cantidad': 40},\n",
       " {'nombre': 'ZAPATOS', 'precio': 50, 'cantidad': 0}]"
      ]
     },
     "execution_count": 24,
     "metadata": {},
     "output_type": "execute_result"
    }
   ],
   "source": [
    "inventario"
   ]
  },
  {
   "cell_type": "markdown",
   "id": "d35df238",
   "metadata": {},
   "source": [
    "7. `realizar_compra()`:  \n",
    "Permite a un cliente realizar una compra seleccionando productos del inventario.  \n",
    "Debe interactuar con el cliente para seleccionar productos y calcular el costo total de la compra.\n",
    "- Utiliza un bucle `while` para permitir al cliente realizar múltiples compras.\n",
    "- Muestra el inventario y solicita al cliente ingresar el nombre del producto que desea comprar.\n",
    "- Registra los productos seleccionados en un carrito y actualiza el inventario.\n",
    "- Calcula el costo total de la compra."
   ]
  },
  {
   "cell_type": "code",
   "execution_count": 25,
   "id": "f4d75cfc",
   "metadata": {},
   "outputs": [],
   "source": [
    "def realizar_compra():\n",
    "    print('¡Bienvenid@ a nuestra tienda de ropa!')\n",
    "    print('A continuación te mostramos nuestro catálogo de productos:')\n",
    "    nombres_productos = [dic['nombre'] for dic in inventario]\n",
    "    print(nombres_productos)\n",
    "    carrito = []\n",
    "\n",
    "    while True:\n",
    "        producto = (input('Por favor, indica qué producto te gustaría adquirir.')).upper()  \n",
    "    \n",
    "        if producto in nombres_productos:\n",
    "            cantidad = int(input(f'Por favor, indica la cantidad que quieres del producto elegido \"{producto.upper()}\".'))\n",
    "            index_producto = nombres_productos.index(producto)        \n",
    "            cantidad_actual = inventario[index_producto]['cantidad']              # vamos sacando cuál es la cantidad actual \n",
    "            precio = inventario[index_producto]['precio']                         # vamos sacando el precio \n",
    "\n",
    "            if cantidad <= cantidad_actual:\n",
    "                cantidad_updated = cantidad_actual - cantidad                       \n",
    "                inventario[index_producto]['cantidad'] = cantidad_updated         # actualizamos el inventario \n",
    "                carrito.append({producto: {'uds': cantidad, 'precio': precio}})   # vamos añadiendo los productos al carrito                                  \n",
    "                print(f'La elección de {cantidad} items del producto \"{producto.upper()}\" se ha añadido a tu carrito.')\n",
    "\n",
    "            if cantidad > cantidad_actual:\n",
    "                print(f'En estos momentos no tenemos la cantidad del producto \"{producto.upper()}\" que has indicado')\n",
    "                print(f'La cantidad actual es de: {cantidad_actual}.')\n",
    "\n",
    "        if producto not in nombres_productos:                                    # por si introducen un produto que no está\n",
    "            print(f'Disculpa, el producto indicado \"{producto.upper()}\" no está en nuestro catálogo.')\n",
    "            continue  \n",
    "\n",
    "        seguir_comprando = input('¿Quieres seguir con la compra o prefieres ir ya al carrito? (s = sí, no = carrito)')\n",
    "        if seguir_comprando == 's':\n",
    "            continue\n",
    "        else:\n",
    "            print('.................................................')\n",
    "            print('Tu carrito:')\n",
    "            print(carrito)\n",
    "\n",
    "            break\n",
    "\n",
    "# indicar falda: no está\n",
    "# indicar camisa, uts 5\n",
    "# indicar zapatos, uts 50 --> no\n",
    "# indicar pantalón, uts 20\n",
    "# indicar camisa, uts 3\n",
    "# carrito"
   ]
  },
  {
   "cell_type": "code",
   "execution_count": 26,
   "id": "37907e6f",
   "metadata": {},
   "outputs": [
    {
     "name": "stdout",
     "output_type": "stream",
     "text": [
      "¡Bienvenid@ a nuestra tienda de ropa!\n",
      "A continuación te mostramos nuestro catálogo de productos:\n",
      "['CAMISA', 'PANTALÓN', 'ZAPATOS']\n",
      "Disculpa, el producto indicado \"FALDA\" no está en nuestro catálogo.\n",
      "Disculpa, el producto indicado \"FALDA\" no está en nuestro catálogo.\n",
      "La elección de 5 items del producto \"CAMISA\" se ha añadido a tu carrito.\n",
      "En estos momentos no tenemos la cantidad del producto \"ZAPATOS\" que has indicado\n",
      "La cantidad actual es de: 0.\n",
      "La elección de 20 items del producto \"PANTALÓN\" se ha añadido a tu carrito.\n",
      "La elección de 3 items del producto \"CAMISA\" se ha añadido a tu carrito.\n",
      ".................................................\n",
      "Tu carrito:\n",
      "[{'CAMISA': {'uds': 5, 'precio': 20}}, {'PANTALÓN': {'uds': 20, 'precio': 30}}, {'CAMISA': {'uds': 3, 'precio': 20}}]\n"
     ]
    }
   ],
   "source": [
    "realizar_compra()"
   ]
  },
  {
   "cell_type": "code",
   "execution_count": 23,
   "id": "c8a74c7d",
   "metadata": {},
   "outputs": [
    {
     "data": {
      "text/plain": [
       "[{'nombre': 'CAMISA', 'precio': 20, 'cantidad': 30},\n",
       " {'nombre': 'PANTALÓN', 'precio': 30, 'cantidad': 40},\n",
       " {'nombre': 'ZAPATOS', 'precio': 50, 'cantidad': 0}]"
      ]
     },
     "execution_count": 23,
     "metadata": {},
     "output_type": "execute_result"
    }
   ],
   "source": [
    "inventario"
   ]
  }
 ],
 "metadata": {
  "kernelspec": {
   "display_name": "base",
   "language": "python",
   "name": "python3"
  },
  "language_info": {
   "codemirror_mode": {
    "name": "ipython",
    "version": 3
   },
   "file_extension": ".py",
   "mimetype": "text/x-python",
   "name": "python",
   "nbconvert_exporter": "python",
   "pygments_lexer": "ipython3",
   "version": "3.12.3"
  }
 },
 "nbformat": 4,
 "nbformat_minor": 5
}
