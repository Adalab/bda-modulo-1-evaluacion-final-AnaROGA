{
 "cells": [
  {
   "cell_type": "markdown",
   "id": "70e63a41",
   "metadata": {},
   "source": [
    "## Estructuras Principales\n",
    "1. `inventario` (<u>lista de diccionarios</u>): Una estructura para almacenar los productos en el inventario.  \n",
    "- Cada producto debe ser representado como un diccionario con las siguientes claves: `'nombre'`, `'precio'`, y `'cantidad'`.  \n",
    "- Al principio deberá ser una lista vacía. \n",
    "\n",
    "Ejemplo de como debería ser:\n",
    "[{'nombre': 'Camisa', 'precio': 20, 'cantidad': 40},\n",
    "{'nombre': 'Pantalón', 'precio': 30, 'cantidad': 30}]"
   ]
  },
  {
   "cell_type": "markdown",
   "id": "82fd2713",
   "metadata": {},
   "source": [
    "2. `clientes` (<u>diccionario</u>): Una estructura para llevar un registro de los clientes de la tienda.  \n",
    "- Cada cliente debe ser representado como un diccionario con las siguientes claves: `'nombre'` y `'email'`.  \n",
    "- Al inicio deberá ser un diccionario vacío. Además, cada cliente debe tener un historial de compras.  \n",
    "\n",
    "Deberá parecerse a:\n",
    "\n",
    "{'Cliente1': {'email': 'cliente1@email.com', 'compras': [ ] }, 'Cliente2': {'email': 'cliente2@email.com', 'compras': [ ] }}"
   ]
  },
  {
   "cell_type": "markdown",
   "id": "515fa6ad",
   "metadata": {},
   "source": [
    "3. `ventas_totales` (<u>float</u>): Una variable para llevar un registro de las ventas totales de la tienda. \n",
    "- Inicializalo con valor 0.\n",
    "-----------------------------------------------------------------------------------------------------------"
   ]
  },
  {
   "cell_type": "markdown",
   "id": "13a8f47c",
   "metadata": {},
   "source": [
    "# Funciones\n",
    "1. `agregar_producto(nombre, precio, cantidad)`:  \n",
    ". Esta función agrega un producto al inventario o actualiza su cantidad si ya existe.  \n",
    ". Debe recibir el nombre, precio y cantidad del producto como parámetros.\n",
    "- Itera a través del inventario y compara los nombres de los productos con el nombre proporcionado.\n",
    "- Si el producto ya existe, actualiza la cantidad.\n",
    "- Si no existe, agrega un nuevo producto al inventario"
   ]
  },
  {
   "cell_type": "code",
   "execution_count": 113,
   "id": "f2f9f6f4",
   "metadata": {},
   "outputs": [],
   "source": [
    "inventario = []\n",
    "clientes = {}\n",
    "ventas_totales = 0.0"
   ]
  },
  {
   "cell_type": "code",
   "execution_count": 114,
   "id": "335bff7b",
   "metadata": {},
   "outputs": [],
   "source": [
    "# 1. Agregar producto: parámetros = nombre, precio, cantidad  <-- los mismos que en la lista <inventario>\n",
    "# _ Si existe --> actualizar la cantidad\n",
    "# _ Si no --> crearlo\n",
    "\n",
    "def agregar_producto (nombre, precio, cantidad):\n",
    "    nombre_inv = nombre.upper()    # para que dé igual cómo se ingrese el nombre en la función\n",
    "    nombres_productos = [dic['nombre'] for dic in inventario]  # creamos una lista con todos los nombres de los productos\n",
    "    if nombre_inv not in nombres_productos:   # no existe?\n",
    "        producto_nuevo = {'nombre': nombre_inv, 'precio': precio, 'cantidad' : cantidad}\n",
    "        inventario.append(producto_nuevo)  # agregamos el nuevo producto (diccionario) en la lista 'inventario'\n",
    "        print(f'El producto \"{nombre_inv.capitalize()}\" se ha agregado correctamente en el inventario.')\n",
    "    else:   # si ya existe --> actualizamos la cantidad\n",
    "        index = nombres_productos.index(nombre_inv)  # obtenemos el índice del producto en la lista 'inventario'\n",
    "        inventario[index]['cantidad'] +=  cantidad  # sumamos la cantidad nueva a la existente\n",
    "        print(f'El producto \"{nombre_inv.capitalize()}\" ya se encuentra en el inventario.')\n",
    "        print('Sus datos actualizados son los siguientes:')\n",
    "        return f'Cantidad: {inventario[index]['cantidad']}.'\n"
   ]
  },
  {
   "cell_type": "code",
   "execution_count": 115,
   "id": "1f3851b6",
   "metadata": {},
   "outputs": [
    {
     "name": "stdout",
     "output_type": "stream",
     "text": [
      "El producto \"Camisa\" se ha agregado correctamente en el inventario.\n",
      "El producto \"Pantalón\" se ha agregado correctamente en el inventario.\n",
      "El producto \"Zapatos\" se ha agregado correctamente en el inventario.\n"
     ]
    }
   ],
   "source": [
    "agregar_producto('Camisa', 20, 10)\n",
    "agregar_producto('PANTALÓN', 30, 30)\n",
    "agregar_producto('zapatos', 50, 40)"
   ]
  },
  {
   "cell_type": "code",
   "execution_count": 116,
   "id": "89534811",
   "metadata": {},
   "outputs": [
    {
     "data": {
      "text/plain": [
       "[{'nombre': 'CAMISA', 'precio': 20, 'cantidad': 10},\n",
       " {'nombre': 'PANTALÓN', 'precio': 30, 'cantidad': 30},\n",
       " {'nombre': 'ZAPATOS', 'precio': 50, 'cantidad': 40}]"
      ]
     },
     "execution_count": 116,
     "metadata": {},
     "output_type": "execute_result"
    }
   ],
   "source": [
    "inventario"
   ]
  },
  {
   "cell_type": "code",
   "execution_count": 117,
   "id": "644d420c",
   "metadata": {},
   "outputs": [
    {
     "name": "stdout",
     "output_type": "stream",
     "text": [
      "El producto \"Camisa\" ya se encuentra en el inventario.\n",
      "Sus datos actualizados son los siguientes:\n"
     ]
    },
    {
     "data": {
      "text/plain": [
       "'Cantidad: 50.'"
      ]
     },
     "execution_count": 117,
     "metadata": {},
     "output_type": "execute_result"
    }
   ],
   "source": [
    "agregar_producto('camisa', 20, 40) "
   ]
  },
  {
   "cell_type": "code",
   "execution_count": 101,
   "id": "10832c2b",
   "metadata": {},
   "outputs": [
    {
     "data": {
      "text/plain": [
       "[{'nombre': 'CAMISA', 'precio': 20, 'cantidad': 50},\n",
       " {'nombre': 'PANTALÓN', 'precio': 30, 'cantidad': 30},\n",
       " {'nombre': 'ZAPATOS', 'precio': 50, 'cantidad': 40}]"
      ]
     },
     "execution_count": 101,
     "metadata": {},
     "output_type": "execute_result"
    }
   ],
   "source": [
    "inventario"
   ]
  },
  {
   "cell_type": "markdown",
   "id": "41dd1c6b",
   "metadata": {},
   "source": [
    "2. `ver_inventario()`:  \n",
    ". Muestra el inventario de productos con sus detalles.  \n",
    ". Debería verse:  \n",
    "    Nombre: Camisa, Precio: $20, Cantidad: 50  \n",
    "    Nombre: Pantalón, Precio: $30, Cantidad: 30  \n",
    "    Nombre: Zapatos, Precio: $50, Cantidad: 40  \n",
    "    Nombre: Camisa, Precio: $20, Cantidad: 50\n",
    "- Utiliza un bucle `for` para recorrer el inventario.\n",
    "- Imprime los detalles (nombre, precio, cantidad) de cada producto.  \n"
   ]
  },
  {
   "cell_type": "code",
   "execution_count": 102,
   "id": "58957a1c",
   "metadata": {},
   "outputs": [],
   "source": [
    "def ver_inventario ():\n",
    "    for dic in inventario:\n",
    "        nombre_inv = (dic['nombre']).capitalize()\n",
    "        print(f'Nombre: {nombre_inv}, Precio: ${dic['precio']}, Cantidad: {dic['cantidad']}.')   "
   ]
  },
  {
   "cell_type": "code",
   "execution_count": 103,
   "id": "5da32cbb",
   "metadata": {},
   "outputs": [
    {
     "name": "stdout",
     "output_type": "stream",
     "text": [
      "Nombre: Camisa, Precio: $20, Cantidad: 50.\n",
      "Nombre: Pantalón, Precio: $30, Cantidad: 30.\n",
      "Nombre: Zapatos, Precio: $50, Cantidad: 40.\n"
     ]
    }
   ],
   "source": [
    "ver_inventario()"
   ]
  },
  {
   "cell_type": "markdown",
   "id": "2462dcd1",
   "metadata": {},
   "source": [
    "3. `buscar_producto(nombre)`:  \n",
    ". Busca un producto en el inventario por nombre y muestra sus detalles si se encuentra.  \n",
    ". Debe recibir el nombre del producto como parámetro.\n",
    "- Utiliza un bucle `for` para recorrer el inventario.\n",
    "- Compara los nombres de los productos con el nombre proporcionado.\n",
    "- Si se encuentra el producto, imprime sus detalles.  \n",
    ". Debe mostrar:\n",
    "Nombre: Camisa, Precio: $20, Cantidad: 40"
   ]
  },
  {
   "cell_type": "code",
   "execution_count": 108,
   "id": "8ac84ff0",
   "metadata": {},
   "outputs": [
    {
     "data": {
      "text/plain": [
       "['CAMISA', 'PANTALÓN', 'ZAPATOS']"
      ]
     },
     "execution_count": 108,
     "metadata": {},
     "output_type": "execute_result"
    }
   ],
   "source": [
    "nombres_productos = [dic['nombre'] for dic in inventario]\n",
    "nombres_productos"
   ]
  },
  {
   "cell_type": "code",
   "execution_count": 109,
   "id": "5e3782ad",
   "metadata": {},
   "outputs": [
    {
     "name": "stdout",
     "output_type": "stream",
     "text": [
      "0\n"
     ]
    }
   ],
   "source": [
    "if 'CAMISA' in nombres_productos:\n",
    "        index = nombres_productos.index('CAMISA')\n",
    "        print(index)"
   ]
  },
  {
   "cell_type": "code",
   "execution_count": 111,
   "id": "da4d585c",
   "metadata": {},
   "outputs": [],
   "source": [
    "def buscar_producto(nombre):\n",
    "    nombre_inv = nombre.upper()  # para que dé igual cómo se ingrese el nombre en la función\n",
    "    nombres_productos = [dic['nombre'] for dic in inventario] # lista con los nombres de los prod. existentes\n",
    "    if nombre_inv in nombres_productos:\n",
    "        index = nombres_productos.index(nombre_inv)\n",
    "        print(f'El producto {nombre_inv.capitalize()} ya se encuentra en el inventario.')\n",
    "        print( f'Los datos del producto son:')\n",
    "        return f'Nombre: {nombre_inv.capitalize()}, Precio: ${inventario[index]['precio']}, Cantidad: {inventario[index]['cantidad']}.'\n",
    "         \n",
    "    else:\n",
    "        print(f'El producto {nombre_inv.capitalize()} no se encuentra actualmente en el inventario.')\n",
    "        return f'Puede elegir alguno de los siguientes productos disponibles : {nombres_productos}'\n",
    "\n"
   ]
  },
  {
   "cell_type": "code",
   "execution_count": 112,
   "id": "62715cf7",
   "metadata": {},
   "outputs": [
    {
     "name": "stdout",
     "output_type": "stream",
     "text": [
      "El producto Camisa ya se encuentra en el inventario.\n",
      "Los datos del producto son:\n",
      "Nombre: Camisa, Precio: $20, Cantidad: 50.\n",
      "..........\n",
      "El producto Pantalón ya se encuentra en el inventario.\n",
      "Los datos del producto son:\n",
      "Nombre: Pantalón, Precio: $30, Cantidad: 30.\n",
      "..........\n",
      "El producto Medias no se encuentra actualmente en el inventario.\n",
      "Puede elegir alguno de los siguientes productos disponibles : ['CAMISA', 'PANTALÓN', 'ZAPATOS']\n"
     ]
    }
   ],
   "source": [
    "print(buscar_producto('camisa'))\n",
    "print('..........')\n",
    "print(buscar_producto('PANTALÓN'))\n",
    "print('..........')\n",
    "print(buscar_producto('medias'))"
   ]
  },
  {
   "cell_type": "markdown",
   "id": "208a1ba7",
   "metadata": {},
   "source": [
    "4. `actualizar_stock(nombre, cantidad)`: Actualiza el stock de un producto en el inventario. Debe recibir el nombre del producto y la cantidad a agregar o quitar como parámetros.\n",
    "- Utiliza un bucle `for` para recorrer el inventario.\n",
    "- Busca el producto por nombre.\n",
    "- Actualiza la cantidad según la entrada del usuario.\n",
    "- Si el producto no esta en el inventario muestra un mensaje indicándolo."
   ]
  },
  {
   "cell_type": "code",
   "execution_count": null,
   "id": "6390fce7",
   "metadata": {},
   "outputs": [],
   "source": []
  }
 ],
 "metadata": {
  "kernelspec": {
   "display_name": "base",
   "language": "python",
   "name": "python3"
  },
  "language_info": {
   "codemirror_mode": {
    "name": "ipython",
    "version": 3
   },
   "file_extension": ".py",
   "mimetype": "text/x-python",
   "name": "python",
   "nbconvert_exporter": "python",
   "pygments_lexer": "ipython3",
   "version": "3.12.3"
  }
 },
 "nbformat": 4,
 "nbformat_minor": 5
}
